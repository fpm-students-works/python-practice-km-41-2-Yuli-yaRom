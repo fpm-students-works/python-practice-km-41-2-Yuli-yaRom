{
  "cells": [
    {
      "cell_type": "markdown",
      "metadata": {
        "id": "FMqboNwO4rVs"
      },
      "source": [
        "# **Курс \"Програмування на мові Python\"**"
      ]
    },
    {
      "cell_type": "markdown",
      "metadata": {
        "id": "A2T6MigL5Z06"
      },
      "source": [
        "## **Практичне зайняття №16**\n",
        "\n",
        "### Тема: \"Декоратори\""
      ]
    },
    {
      "cell_type": "markdown",
      "metadata": {
        "id": "BZ3SAjP1y4rZ"
      },
      "source": [
        "Декоратори використовуються у ситуаціях, коли до функції потрібно \"додати додаткову поведінку\" (\"add additional behaviour\"). У мові Python декоратори - це функції, що приймають на вхід інші функції (або інші об'єкти) та повертають нові функції, які мають вже \"декоровану\" поведінку.\n",
        "\n",
        "**Декоратор** - це функція, яка дозволяє загорнути (to wrap) іншу функцію, щоб розширити її функціональність, не змінюючи вихідного коду, та повертає нову функцію.\n",
        "\n",
        "Щоб визначити декоратор, необхідно визначити функцію, яка прийматиме на вхід іншу функцію, як параметр, та повертатиме нову функцію. Наприклад:"
      ]
    },
    {
      "cell_type": "code",
      "execution_count": null,
      "metadata": {
        "id": "Zz6Be8Vxxo62"
      },
      "outputs": [],
      "source": [
        "def logger(func):\n",
        "    def inner():\n",
        "        print('calling ', func.__name__)\n",
        "        func()\n",
        "        print('called ', func.__name__)\n",
        "    return inner"
      ]
    },
    {
      "cell_type": "markdown",
      "metadata": {
        "id": "ITtL3GLVDV1a"
      },
      "source": [
        "У цьому випадку декоратор logger() загортає функцію func() у функцію inner(). Функція inner() буде розширювати можливості функції func(), роздруковуючи додатково два рядки. Декоратор повертає функцію inner(), як результат.\n",
        "\n",
        "Кожна функція має атрибут `__name__`, що повертає назву функції. Він використовується всередині функції inner(), щоб вивести назву функції, яка фактично буде виконуватись.\n",
        "\n",
        "Розглянемо результат роботи декоратора. Для цього визначимо функцію target():"
      ]
    },
    {
      "cell_type": "code",
      "execution_count": null,
      "metadata": {
        "id": "JeacZcmyxTQr"
      },
      "outputs": [],
      "source": [
        "def target():\n",
        "    print('In target function')"
      ]
    },
    {
      "cell_type": "markdown",
      "metadata": {
        "id": "vxSVSoza3i3L"
      },
      "source": [
        "Тепер застосуємо декоратор logger() до функції target() та присвоїмо результат роботи декоратора змінній з такою ж назвою - target."
      ]
    },
    {
      "cell_type": "code",
      "execution_count": null,
      "metadata": {
        "id": "SbrhzqOP3hHp"
      },
      "outputs": [],
      "source": [
        "target = logger(target)\n",
        "target()"
      ]
    },
    {
      "cell_type": "markdown",
      "metadata": {
        "id": "oYMMjGHl4KzZ"
      },
      "source": [
        "Під час виконання цього коду фактично виконується функція inner(), яку повертає декоратор. Функція inner() роздруковує перше повідомлення та викликає функцію, яка прийшла на вхід декоратора logger(). Після виконання цієї функції роздруковується друге повідомлення. Декоратор logger() повертає функцію inner(). Під час виклику декоратора відбувається підміна функції target(). Замість оригінальної її версії тепер фактично викликатиметься функція inner().\n",
        "\n",
        "Однак у мові Python є можливість спростити синтаксис для виклику декоратора. Щоб навісити декоратор на функцію, достатньо написати його назву після символу '@' перед заголовком функції."
      ]
    },
    {
      "cell_type": "code",
      "execution_count": null,
      "metadata": {
        "id": "rC0Mhp9i4CMS"
      },
      "outputs": [],
      "source": [
        "@logger\n",
        "def target():\n",
        "    print('In target function')\n",
        "\n",
        "target()"
      ]
    },
    {
      "cell_type": "markdown",
      "metadata": {
        "id": "q1EPnXgS-Gek"
      },
      "source": [
        "Декоратори також можуть застосовуватись до функцій, які приймають на вхід певні параметри. Але в такому випадку функція inner() має приймати на вхід стільки ж параметрів, скільки й функції, до яких декоратор застосовується. Наприклад:"
      ]
    },
    {
      "cell_type": "code",
      "execution_count": null,
      "metadata": {
        "id": "huL2DeWW96pz"
      },
      "outputs": [],
      "source": [
        "def logger(func):\n",
        "    def inner(x, y):\n",
        "        print('calling', func.__name__, 'with', x, 'and', y)\n",
        "        func(x, y)\n",
        "        print('returned from', func.__name__)\n",
        "    return inner\n",
        "\n",
        "@logger\n",
        "def my_func(x, y):\n",
        "    print(x, y)\n",
        "\n",
        "my_func(4, 5)"
      ]
    },
    {
      "cell_type": "markdown",
      "metadata": {
        "id": "TSOSBkwc_6d0"
      },
      "source": [
        "Але для того, щоб зробити декоратор більш універсальним, тобто щоб його можна було застосовувати до функцій з різною кількістю параметрів, його можна оформити так:"
      ]
    },
    {
      "cell_type": "code",
      "execution_count": null,
      "metadata": {
        "id": "RD_bvqSA-rc9"
      },
      "outputs": [],
      "source": [
        "def logger(func):\n",
        "    def inner(*args, **kwargs):\n",
        "        print('*args parameters:', args)\n",
        "        print('**kwargs parameters:', kwargs)\n",
        "        res = func(*args, **kwargs)\n",
        "        print(res)\n",
        "        print()\n",
        "    return inner"
      ]
    },
    {
      "cell_type": "markdown",
      "metadata": {
        "id": "ciMn4LpkAndm"
      },
      "source": [
        "Тепер створимо дві функції з різною кількістю параметрів та застосуємо до них декоратор logger()."
      ]
    },
    {
      "cell_type": "code",
      "execution_count": null,
      "metadata": {
        "id": "bGSrV4S0Amsw"
      },
      "outputs": [],
      "source": [
        "@logger\n",
        "def func_1(x, y, z):\n",
        "    return x + y + z\n",
        "\n",
        "@logger\n",
        "def func_2(x, y):\n",
        "    return x * y\n",
        "\n",
        "func_1(2, 3, z = 1)\n",
        "func_2(3, 4)"
      ]
    },
    {
      "cell_type": "markdown",
      "metadata": {
        "id": "mbl85wXBFyk4"
      },
      "source": [
        "Бачимо, що позиційні аргументи передались у змінну args, а іменовані - у змінну kwargs. Бажано використовувати саме такий універсальний запис для декоратора навіть в тому випадку, якщо фукції, які подаються на вхід, аргументів не мають.\n",
        "\n",
        "Декоратори можуть бути **складеними** (stacked decorators). Тобто до функції може бути застосовано більше одного декоратора. Наприклад:"
      ]
    },
    {
      "cell_type": "code",
      "execution_count": null,
      "metadata": {
        "id": "7PjUEqqABf1L"
      },
      "outputs": [],
      "source": [
        "# Define the decorator functions\n",
        "def make_bold(fn):\n",
        "    def makebold_wrapped():\n",
        "        return \"<b>\" + fn() + \"</b>\"\n",
        "    return makebold_wrapped\n",
        "\n",
        "def make_italic(fn):\n",
        "    def makeitalic_wrapped():\n",
        "        return \"<i>\" + fn() + \"</i>\"\n",
        "    return makeitalic_wrapped\n",
        "\n",
        "# Apply decorators to function hello\n",
        "@make_bold\n",
        "@make_italic\n",
        "def hello():\n",
        "    return 'hello world'\n",
        "\n",
        "# Call function hello\n",
        "print(hello())"
      ]
    },
    {
      "cell_type": "markdown",
      "metadata": {
        "id": "PqX3bSQ9K_7n"
      },
      "source": [
        "Декоратори застосовуються до функції у послідовності, починаючи з останнього, тобто починаючи від того, що розташований найближче до заголовку функції. У попередньому прикладі спочатку виконується декоратор make_italic(), потім make_bold().\n",
        "\n",
        "Декоратори також можуть приймати на вхід параметри та повертати функцію, що використовуватиме ці параметри. Наприклад:"
      ]
    },
    {
      "cell_type": "code",
      "execution_count": null,
      "metadata": {
        "id": "xD2sMlCPIxWI"
      },
      "outputs": [],
      "source": [
        "def register(active=True):\n",
        "    def wrap(func):\n",
        "        def wrapper(*args, **kwargs):\n",
        "            print('Calling ', func.__name__, ' decorator param', active)\n",
        "            if active:\n",
        "                func(*args, **kwargs)\n",
        "                print('Called ', func.__name__)\n",
        "            else:\n",
        "                print('Skipped ', func.__name__)\n",
        "        return wrapper\n",
        "    return wrap\n",
        "\n",
        "@register()\n",
        "def func1(x, y):\n",
        "    print('x + y =', x + y)\n",
        "    print('func1')\n",
        "\n",
        "@register(active=False)\n",
        "def func2():\n",
        "    print('func2')\n",
        "\n",
        "func1(1, 2)\n",
        "print('-' * 10)\n",
        "func2()"
      ]
    },
    {
      "cell_type": "markdown",
      "metadata": {
        "id": "0rzLzt4tT1Zw"
      },
      "source": [
        "Першою відмінністю декораторів з параметрами від звичайних декораторів є додаткова функція (у попередньому прикладі - register()), яка огортає функцію wrap(), що приймає на вхід функцію-аргумент, та функцію wrapper(), яка приймає на вхід аргументи функції-аргумента.\n",
        "\n",
        "Другою відмінністю є необхідність використовувати круглі дужки під час виклику декоратора навіть в тому випадку, якщо аргументи не передаються.\n",
        "\n",
        "На відміну від звичайних функцій, функції-декоратори запускаються відразу після визначення. Наприклад:"
      ]
    },
    {
      "cell_type": "code",
      "execution_count": null,
      "metadata": {
        "id": "ggf63l5vOsIU"
      },
      "outputs": [],
      "source": [
        "def logger(func):\n",
        "    print('In Logger')\n",
        "    def inner():\n",
        "        print('In inner calling ', func.__name__)\n",
        "        func()\n",
        "        print('In inner called ', func.__name__)\n",
        "    print('Finishing Logger')\n",
        "    return inner\n",
        "\n",
        "@logger\n",
        "def print_it():\n",
        "    print('Print It')\n",
        "\n",
        "print('Start')\n",
        "print_it()\n",
        "print('Done')"
      ]
    },
    {
      "cell_type": "markdown",
      "metadata": {
        "id": "b1tQVIrQW5KY"
      },
      "source": [
        "З попереднього прикладу видно, що рядки \"In Logger\" та \"Finishing Logger\" виводяться ще до того, як функція print_it() була запущена.\n",
        "\n",
        "У мові Python існує дуже багато **вбудованих декораторів**. Розглянемо найпростіший.\n",
        "\n",
        "За замовчуванням під час виклику декоратора назва та рядок документації оригінальної функції втрачаються. Якщо функція inner() має рядок документації, то під час виклику декорованої функції буде виведений саме цей рядок. Наприклад:"
      ]
    },
    {
      "cell_type": "code",
      "execution_count": null,
      "metadata": {
        "id": "A2TeqFXVW2tJ"
      },
      "outputs": [],
      "source": [
        "def logger(func):\n",
        "    def inner():\n",
        "        \"\"\"inner() function docstring\"\"\"\n",
        "        print('calling ', func.__name__)\n",
        "        func()\n",
        "        print('called ', func.__name__)\n",
        "    return inner\n",
        "\n",
        "@logger\n",
        "def get_text(name):\n",
        "    \"\"\"get_text() function docstring\"\"\"\n",
        "    return \"Hello \"+ name\n",
        "\n",
        "print('name:', get_text.__name__)\n",
        "print('doc: ', get_text.__doc__)"
      ]
    },
    {
      "cell_type": "markdown",
      "metadata": {
        "id": "5-_aDWeNZ3O-"
      },
      "source": [
        "Щоб отримати рядок документації декорованої функції, можна скористатись декоратором wraps з модуля functools. Його потрібно ввести перед заголовком функції inner() та передати йому як параметр функцію func."
      ]
    },
    {
      "cell_type": "code",
      "execution_count": null,
      "metadata": {
        "id": "o79FgA5cZ0WB"
      },
      "outputs": [],
      "source": [
        "from functools import wraps\n",
        "\n",
        "def logger(func):\n",
        "    @wraps(func)\n",
        "    def inner():\n",
        "        \"\"\"inner() function docstring\"\"\"\n",
        "        print('calling ', func.__name__)\n",
        "        func()\n",
        "        print('called ', func.__name__)\n",
        "    return inner\n",
        "\n",
        "@logger\n",
        "def get_text(name):\n",
        "    \"\"\"get_text() function docstring\"\"\"\n",
        "    return \"Hello \"+name\n",
        "\n",
        "print('name:', get_text.__name__)\n",
        "print('doc: ', get_text.__doc__)"
      ]
    }
  ],
  "metadata": {
    "colab": {
      "collapsed_sections": [
        "ceZnlkaoqkV1"
      ],
      "name": "Practice_10-11.ipynb",
      "provenance": []
    },
    "kernelspec": {
      "display_name": "Python 3",
      "name": "python3"
    },
    "language_info": {
      "codemirror_mode": {
        "name": "ipython",
        "version": 3
      },
      "file_extension": ".py",
      "mimetype": "text/x-python",
      "name": "python",
      "nbconvert_exporter": "python",
      "pygments_lexer": "ipython3",
      "version": "3.10.0"
    }
  },
  "nbformat": 4,
  "nbformat_minor": 0
}
