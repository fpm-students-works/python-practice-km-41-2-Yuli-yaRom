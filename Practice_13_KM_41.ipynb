{
 "cells": [
  {
   "cell_type": "markdown",
   "metadata": {
    "id": "FMqboNwO4rVs"
   },
   "source": [
    "# **Курс \"Програмування на мові Python\"**"
   ]
  },
  {
   "cell_type": "markdown",
   "metadata": {
    "id": "A2T6MigL5Z06"
   },
   "source": [
    "## **Практичне зайняття №15**\n",
    "\n",
    "### Тема: \"Ітератори та генератори\""
   ]
  },
  {
   "cell_type": "markdown",
   "metadata": {
    "id": "cfCdgK2zXm7e"
   },
   "source": [
    "### **Завдання 1 (2 бали)**\n",
    "\n",
    "Розрахуйте коефієнти розкладу [біному Ньютона](https://uk.wikipedia.org/wiki/%D0%91%D1%96%D0%BD%D0%BE%D0%BC_%D0%9D%D1%8C%D1%8E%D1%82%D0%BE%D0%BD%D0%B0) за допомогою генератора.\n",
    "\n",
    "1. Степінь многочлена користувач має вводити з клавіатури (невід'ємне ціле число).\n",
    "\n",
    "2. Програма має підраховувати біноміальні коефіцієнти для біномів усіх степенів, починаючи від 0 і закінчуючи тим, який ввів користувач.\n",
    "\n",
    "3. Коефіцієнти мають виводитись у вигляді трикутника Паскаля.\n",
    "\n",
    "Наприклад, якщо користувач введе число 5, програма має вивести результат:\n",
    "\n",
    "1\n",
    "\n",
    "1 1\n",
    "\n",
    "1 2 1\n",
    "\n",
    "1 3 3 1\n",
    "\n",
    "1 4 6 4 1\n",
    "\n",
    "1 5 10 10 5 1\n"
   ]
  },
  {
   "cell_type": "code",
   "execution_count": null,
   "metadata": {
    "id": "Bku8v9CjE_Qc"
   },
   "outputs": [
    {
     "name": "stdout",
     "output_type": "stream",
     "text": [
      "[1.0]\n",
      "[1.0, 1.0]\n",
      "[1.0, 2.0, 1.0]\n",
      "[1.0, 3.0, 3.0, 1.0]\n",
      "[1.0, 4.0, 6.0, 4.0, 1.0]\n",
      "[1.0, 5.0, 10.0, 10.0, 5.0, 1.0]\n",
      "[1.0, 6.0, 15.0, 20.0, 15.0, 6.0, 1.0]\n"
     ]
    }
   ],
   "source": [
    "while(True):\n",
    "    try:\n",
    "        n = int(input(\"Insert a positive number: \"))\n",
    "        if n < 0:\n",
    "            raise TypeError\n",
    "        break\n",
    "    except ValueError:\n",
    "        print(\"Please, insert a whole number.\")\n",
    "    except TypeError:\n",
    "        print(\"Please, insert a positive number.\")\n",
    "\n",
    "def factorial(l):\n",
    "    c = 1\n",
    "    while l > 0:\n",
    "        c *= l\n",
    "        l -= 1\n",
    "    return c\n",
    "\n",
    "def koef(k, n1):\n",
    "    if k >= 0 and n1 >= k:\n",
    "        return factorial(n1)/(factorial(k)*factorial(n1-k))\n",
    "    if k > n1:\n",
    "        return 0\n",
    "\n",
    "def binomNuton(row):\n",
    "    for i in range(0, row+1):\n",
    "            yield [koef(k, i) for k in range(i+1)]\n",
    "\n",
    "value = binomNuton(n)\n",
    "\n",
    "for i in value:\n",
    "    print(i)\n"
   ]
  },
  {
   "cell_type": "markdown",
   "metadata": {},
   "source": [
    "### **Завдання 2 (1 бал)**\n",
    "\n",
    "Реалізуйте генератор колоди карт (52 штуки). Кожна карта подається у вигляді рядка типу \"*5 diamonds*\".\n",
    "\n",
    "1. 4 масті (diamonds, clubs, hearts, spades) та 13 значень карт мають зберігатись у двох окремих списках (кортежах).\n",
    "\n",
    "2. Значення від 2 до 10 мають гереруватись за допомогою функції range().\n",
    "\n",
    "3. Окрім чисел, у списку значень мають бути присутніми елементи 'A' (Ace - туз), 'J' (Jack - валет), 'Q' (Queen - дама) та 'K' (King - король).\n",
    "\n",
    "4. Карти мають виводитись у порядку від 'A' до 'K'. Порядок виведення мастей не має значення.\n",
    "\n",
    "    *Приклад:*\n",
    "\n",
    "    А diamonds\n",
    "\n",
    "    2 diamonds\n",
    "\n",
    "    ...\n",
    "\n",
    "    K diamonds\n",
    "\n",
    "    A clubs\n",
    "\n",
    "    ...\n",
    "\n",
    "5. Кожна наступна карта має виводитись за допомогою функції next().\n",
    "\n",
    "6. Виведення карт має завершуватись виключенням StopIteration."
   ]
  },
  {
   "cell_type": "code",
   "execution_count": 53,
   "metadata": {},
   "outputs": [
    {
     "name": "stdout",
     "output_type": "stream",
     "text": [
      "A diamonds\n",
      "2 diamonds\n",
      "3 diamonds\n",
      "4 diamonds\n",
      "5 diamonds\n",
      "6 diamonds\n",
      "7 diamonds\n",
      "8 diamonds\n",
      "9 diamonds\n",
      "10 diamonds\n",
      "J diamonds\n",
      "Q diamonds\n",
      "K diamonds\n",
      "A clubs\n",
      "2 clubs\n",
      "3 clubs\n",
      "4 clubs\n",
      "5 clubs\n",
      "6 clubs\n",
      "7 clubs\n",
      "8 clubs\n",
      "9 clubs\n",
      "10 clubs\n",
      "J clubs\n",
      "Q clubs\n",
      "K clubs\n",
      "A hearts\n",
      "2 hearts\n",
      "3 hearts\n",
      "4 hearts\n",
      "5 hearts\n",
      "6 hearts\n",
      "7 hearts\n",
      "8 hearts\n",
      "9 hearts\n",
      "10 hearts\n",
      "J hearts\n",
      "Q hearts\n",
      "K hearts\n",
      "A spades\n",
      "2 spades\n",
      "3 spades\n",
      "4 spades\n",
      "5 spades\n",
      "6 spades\n",
      "7 spades\n",
      "8 spades\n",
      "9 spades\n",
      "10 spades\n",
      "J spades\n",
      "Q spades\n",
      "K spades\n"
     ]
    }
   ],
   "source": [
    "listcrds = [\"diamonds\", \"clubs\", \"hearts\", \"spades\"]\n",
    "listvar = [\"A\"] + list(range(2, 11)) + [\"J\", \"Q\", \"K\"]\n",
    "\n",
    "def cards():\n",
    "   for card in listcrds:\n",
    "    for var in listvar:\n",
    "        yield str(var) +\" \"+ str(card)\n",
    "    \n",
    "cards = cards()\n",
    "while(True):\n",
    "   try:\n",
    "      print(next(cards))\n",
    "   except StopIteration:\n",
    "      break"
   ]
  }
 ],
 "metadata": {
  "colab": {
   "collapsed_sections": [],
   "name": "Practice_10-11_KM_01_.ipynb",
   "provenance": []
  },
  "kernelspec": {
   "display_name": "Python 3",
   "name": "python3"
  },
  "language_info": {
   "codemirror_mode": {
    "name": "ipython",
    "version": 3
   },
   "file_extension": ".py",
   "mimetype": "text/x-python",
   "name": "python",
   "nbconvert_exporter": "python",
   "pygments_lexer": "ipython3",
   "version": "3.12.8"
  }
 },
 "nbformat": 4,
 "nbformat_minor": 0
}
