{
 "cells": [
  {
   "cell_type": "markdown",
   "metadata": {
    "id": "FMqboNwO4rVs"
   },
   "source": [
    "# **Курс \"Програмування на мові Python\"**"
   ]
  },
  {
   "cell_type": "markdown",
   "metadata": {
    "id": "A2T6MigL5Z06"
   },
   "source": [
    "## **Практичне зайняття №9**\n",
    "\n",
    "### Тема: \"Робота з функціями. Локальні та глобальні змінні\""
   ]
  },
  {
   "cell_type": "markdown",
   "metadata": {
    "id": "cfCdgK2zXm7e"
   },
   "source": [
    "### **Завдання 1 (3 бали)**\n",
    "\n",
    "**Підрахувати визначник матриці, використовуючи правило перестановок.**\n",
    "\n",
    "Функція random_matrix() призначена для створення квадратної матриці випадкових чисел. Її змінювати непотрібно.\n",
    "\n",
    "Приклад використання методу permutations() для створення списку перестановок також подається у комірці з кодом.\n",
    "\n",
    "1) Створити 3 функції: функцію створення списку перестановок, функцію підрахунку добутків та функцію підрахунку загальної суми.\n",
    "\n",
    "2) Кожна функція має супроводжуватись рядком документації, що буде коротко описувати її призначення.\n",
    "\n",
    "3) Розмірність квадратної матриці має вводитись користувачем з клавіатури. Підрахунки виконувати лише в тому разі, якщо користувач введе ціле додатне число.\n",
    "\n",
    "4) Загальний результат повинен підраховуватись за допомогою композиції функцій.\n",
    "\n",
    "За бажанням можна перевірити правильність роботи програми за допомогою функції np.linalg.det(a)."
   ]
  },
  {
   "cell_type": "code",
   "execution_count": null,
   "metadata": {
    "id": "ifNX2M7LXm7f"
   },
   "outputs": [
    {
     "name": "stdout",
     "output_type": "stream",
     "text": [
      "[(0, 1, 2), (0, 2, 1), (1, 0, 2), (1, 2, 0), (2, 0, 1), (2, 1, 0)]\n",
      "[[7 9 1]\n",
      " [1 3 5]\n",
      " [3 3 1]]\n"
     ]
    },
    {
     "ename": "UnboundLocalError",
     "evalue": "cannot access local variable 'sign' where it is not associated with a value",
     "output_type": "error",
     "traceback": [
      "\u001b[1;31m---------------------------------------------------------------------------\u001b[0m",
      "\u001b[1;31mUnboundLocalError\u001b[0m                         Traceback (most recent call last)",
      "Cell \u001b[1;32mIn[14], line 61\u001b[0m\n\u001b[0;32m     59\u001b[0m     \u001b[38;5;28;01mreturn\u001b[39;00m det1\n\u001b[0;32m     60\u001b[0m \u001b[38;5;28mprint\u001b[39m(matrixrand1)\n\u001b[1;32m---> 61\u001b[0m det1 \u001b[38;5;241m=\u001b[39m \u001b[43msum_product\u001b[49m\u001b[43m(\u001b[49m\u001b[43mmatrixrand1\u001b[49m\u001b[43m)\u001b[49m\n\u001b[0;32m     62\u001b[0m \u001b[38;5;28mprint\u001b[39m(det1)\n\u001b[0;32m     63\u001b[0m \u001b[38;5;28mprint\u001b[39m(np\u001b[38;5;241m.\u001b[39mlinalg\u001b[38;5;241m.\u001b[39mdet(matrixrand1))\n",
      "Cell \u001b[1;32mIn[14], line 57\u001b[0m, in \u001b[0;36msum_product\u001b[1;34m(matrixrand1)\u001b[0m\n\u001b[0;32m     55\u001b[0m         \u001b[38;5;28;01mif\u001b[39;00m perm1[i] \u001b[38;5;241m>\u001b[39m perm1[j]:\n\u001b[0;32m     56\u001b[0m             sign \u001b[38;5;241m=\u001b[39m \u001b[38;5;241m-\u001b[39m\u001b[38;5;241m1\u001b[39m\n\u001b[1;32m---> 57\u001b[0m     det1 \u001b[38;5;241m+\u001b[39m\u001b[38;5;241m=\u001b[39m \u001b[43msign\u001b[49m \u001b[38;5;241m*\u001b[39m prod\n\u001b[0;32m     59\u001b[0m \u001b[38;5;28;01mreturn\u001b[39;00m det1\n",
      "\u001b[1;31mUnboundLocalError\u001b[0m: cannot access local variable 'sign' where it is not associated with a value"
     ]
    }
   ],
   "source": [
    "import numpy as np\n",
    "import itertools\n",
    "\n",
    "def random_matrix(dim):\n",
    "    \"\"\"\n",
    "    The function generates dim x dim array of integers\n",
    "    between 0 and 10.\n",
    "    \"\"\"\n",
    "    matrix = np.random.randint(10, size = (dim, dim))\n",
    "    return matrix\n",
    "\n",
    "#Example of using permutations() method\n",
    "t = list(itertools.permutations('123', 3))\n",
    "\n",
    "while(True):\n",
    "    d = int(input(\"Insert the dimension of matrix: \"))\n",
    "    if d > 0:\n",
    "        break\n",
    "    else:\n",
    "        print(\"Insert a positive number.\")\n",
    "\n",
    "matrixrand1 = random_matrix(d)\n",
    "\n",
    "def permutation_list(dim):\n",
    "    \"\"\" \n",
    "    The function creates a permutation list \n",
    "    \"\"\"\n",
    "    p = list(itertools.permutations(range(0, dim), dim))\n",
    "    return p\n",
    "\n",
    "print(permutation_list(d))\n",
    "\n",
    "\n",
    "def product_multpl(matrixrand1, perm1):\n",
    "    \"\"\"\n",
    "    The function calculates multiplication of the product of given elements of the matrix\n",
    "    \"\"\"\n",
    "    prod = 1\n",
    "    for i in range(len(matrixrand1)):\n",
    "        prod *= matrixrand1[i][perm1[i]]\n",
    "    return prod\n",
    "\n",
    "def sum_product(matrixrand1):\n",
    "    \"\"\" \n",
    "    The function indicates the sign of each multiplication and finds the determinant\n",
    "    \"\"\"\n",
    "    "
   ]
  }
 ],
 "metadata": {
  "colab": {
   "collapsed_sections": [],
   "name": "Practice_7_KM-01_.ipynb",
   "provenance": []
  },
  "kernelspec": {
   "display_name": "Python 3",
   "language": "python",
   "name": "python3"
  },
  "language_info": {
   "codemirror_mode": {
    "name": "ipython",
    "version": 3
   },
   "file_extension": ".py",
   "mimetype": "text/x-python",
   "name": "python",
   "nbconvert_exporter": "python",
   "pygments_lexer": "ipython3",
   "version": "3.12.7"
  }
 },
 "nbformat": 4,
 "nbformat_minor": 0
}
