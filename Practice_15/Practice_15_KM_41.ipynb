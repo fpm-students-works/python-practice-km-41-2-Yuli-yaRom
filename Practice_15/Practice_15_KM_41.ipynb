{
  "cells": [
    {
      "cell_type": "markdown",
      "metadata": {
        "id": "FMqboNwO4rVs"
      },
      "source": [
        "# **Курс \"Програмування на мові Python\"**"
      ]
    },
    {
      "cell_type": "markdown",
      "metadata": {
        "id": "A2T6MigL5Z06"
      },
      "source": [
        "## **Практичне зайняття №13**\n",
        "\n",
        "### Тема: \"Робота з файлами\""
      ]
    },
    {
      "cell_type": "markdown",
      "metadata": {
        "id": "cfCdgK2zXm7e"
      },
      "source": [
        "### **Завдання 1 (1,5 бали)**\n",
        "\n",
        "У 1939 році друком вийшов роман американського письменика Ернеста Вінсента Райта \"Ґетсбі\". Особливу увагу публіки він здобув через те, що письменник жодного разу не використав у романі літеру \"e\" (роман складається з більше ніж 50,000 слів), яка є найбільш вживаною літерою в англійській мові.\n",
        "\n",
        "Порахуйте кількість входжень кожної літери у текст роману. Виведіть список літер англійського алфавіту, а також інформацію про те, скільки відсотків від усіх літер тексту складає кожна літера алфавіту.\n",
        "\n",
        "Зауваження:\n",
        "\n",
        "1. Програма має ігнорувати будь-які символи, окрім літер.\n",
        "\n",
        "2. Переведіть усі літери у верхній або у нижній регістр.\n",
        "\n",
        "3. Під час виведення відсортуйте літери у порядку зменшення їхнього відсотка. Літера \"e\" має стояти на останньому місці у цьому списку (хоча кілька літер e там все ж таки зустрічається).\n",
        "\n",
        "4. Виведіть перші 5 та останні 5 літер відсортованого списку разом з відсотковими значеннями, що їм відповідають. Відсотки округліть до тисячних."
      ]
    },
    {
      "cell_type": "code",
      "execution_count": 17,
      "metadata": {
        "id": "u4-fHJJ6U462",
        "tags": [
          "outputPrepend"
        ]
      },
      "outputs": [
        {
          "name": "stdout",
          "output_type": "stream",
          "text": [
            "Letter: a appears in 10.952% of text\n",
            "Letter: o appears in 10.419% of text\n",
            "Letter: i appears in 8.825% of text\n",
            "Letter: n appears in 8.597% of text\n",
            "Letter: t appears in 8.494% of text\n",
            "Letter: j appears in 0.23% of text\n",
            "Letter: z appears in 0.107% of text\n",
            "Letter: x appears in 0.079% of text\n",
            "Letter: q appears in 0.051% of text\n",
            "Letter: e appears in 0.002% of text\n"
          ]
        }
      ],
      "source": [
        "txt = open(\"gadsby.txt\", \"r\").read().lower()\n",
        "\n",
        "txtdict = dict()\n",
        "\n",
        "for symb in txt:\n",
        "    if symb.isalpha():\n",
        "        txtdict.update({symb: txtdict.get(symb, 0) + 1}) \n",
        "\n",
        "\n",
        "numlist = []   \n",
        "for el in txtdict.items():\n",
        "    numlist.append([el[1],el[0]])\n",
        "\n",
        "numlist = list(reversed(sorted(numlist)))\n",
        "\n",
        "sumlet = sum(value for value in txtdict.values())\n",
        "\n",
        "for inx in range(0, 5):\n",
        "        print(f\"Letter: {numlist[inx][1]} appears in {round(numlist[inx][0]/sumlet*100, 3)}% of text\")\n",
        "\n",
        "for inx in range(len(numlist)-5, len(numlist)):\n",
        "        print(f\"Letter: {numlist[inx][1]} appears in {round(numlist[inx][0]/sumlet*100, 3)}% of text\")"
      ]
    },
    {
      "cell_type": "markdown",
      "metadata": {
        "id": "A34oz70eU463"
      },
      "source": [
        "### **Завдання 2 (1,5 бали)**\n",
        "\n",
        "Архів archive.zip містить 140 txt-файлів, в яких збережено інфорамцію про те, якими іменами називали дітей у США в період з 1880 по 2019 рік.\n",
        "\n",
        "Структура рядка кожного файлу така:\n",
        "\n",
        "*name,sex,number_of_occurrences*\n",
        "\n",
        "Напишіть програму, яка зчитуватиме кожен файл та визначатиме окремо чоловічі, окремо жіночі імена, що були найпопулярнішими хоча б в один з років. Далі програма повинна підраховувати, скільки разів кожне з цих імен ставало найпопулярнишим, та виводити ранжовані списки чоловічіх та жіночих імен у вигляді:\n",
        "\n",
        "```\n",
        "Michael 44\n",
        "John 44\n",
        "Robert 17\n",
        "...\n",
        "\n",
        "Mary 76\n",
        "Jennifer 15\n",
        "Emily 12\n",
        "...\n",
        "```"
      ]
    },
    {
      "cell_type": "code",
      "execution_count": 30,
      "metadata": {},
      "outputs": [
        {
          "name": "stdout",
          "output_type": "stream",
          "text": [
            "Mary 76\n",
            "Jennifer 15\n",
            "Emily 12\n",
            "Jessica 9\n",
            "Lisa 8\n",
            "Linda 6\n",
            "Emma 6\n",
            "Sophia 3\n",
            "Isabella 2\n",
            "Ashley 2\n",
            "Olivia 1\n",
            "Michael 44\n",
            "John 44\n",
            "Robert 17\n",
            "Jacob 14\n",
            "James 13\n",
            "Noah 4\n",
            "Liam 3\n",
            "David 1\n"
          ]
        }
      ],
      "source": [
        "import zipfile\n",
        "\n",
        "zipfile0 = zipfile.ZipFile(\"archive.zip\")\n",
        "\n",
        "femlist = []\n",
        "malelist = []\n",
        "\n",
        "for i in range(1880, 2020):\n",
        "    yob = zipfile0.open(f\"yob{i}.txt\", \"r\").readlines()\n",
        "    m = 0\n",
        "    f = 0\n",
        "    for el in yob:\n",
        "        el = str(el)[2:len(str(el))-5]\n",
        "        yoblist = el.split(\",\")\n",
        "        if yoblist[1] == \"F\" and f == 0:\n",
        "            femlist.append(yoblist[0])\n",
        "            f = 1\n",
        "        if yoblist[1] == \"M\" and m == 0:\n",
        "            malelist.append(yoblist[0])\n",
        "            m = 1\n",
        "        \n",
        "femdict = dict()\n",
        "maledict = dict()\n",
        "\n",
        "for el in femlist:\n",
        "    femdict.update({el: femdict.get(el, 0)+1})\n",
        "\n",
        "for el in malelist:\n",
        "    maledict.update({el: maledict.get(el, 0)+1})\n",
        "\n",
        "newfemlist = []\n",
        "newmalelist = []\n",
        "\n",
        "for i in femdict.items():\n",
        "    newfemlist.append([i[1], i[0]])\n",
        "\n",
        "for i in maledict.items():\n",
        "    newmalelist.append([i[1], i[0]])\n",
        "\n",
        "newfemlist = list(reversed(sorted(newfemlist)))\n",
        "newmalelist = list(reversed(sorted(newmalelist)))\n",
        "\n",
        "for inx in range(len(newfemlist)):\n",
        "    print(f\"{newfemlist[inx][1]} {newfemlist[inx][0]}\")\n",
        "\n",
        "for inx in range(len(newmalelist)):\n",
        "    print(f\"{newmalelist[inx][1]} {newmalelist[inx][0]}\")\n",
        "\n"
      ]
    }
  ],
  "metadata": {
    "colab": {
      "collapsed_sections": [],
      "name": "Practice_14_KM_01.ipynb",
      "provenance": []
    },
    "kernelspec": {
      "display_name": "Python 3",
      "name": "python3"
    },
    "language_info": {
      "codemirror_mode": {
        "name": "ipython",
        "version": 3
      },
      "file_extension": ".py",
      "mimetype": "text/x-python",
      "name": "python",
      "nbconvert_exporter": "python",
      "pygments_lexer": "ipython3",
      "version": "3.12.6"
    }
  },
  "nbformat": 4,
  "nbformat_minor": 0
}
