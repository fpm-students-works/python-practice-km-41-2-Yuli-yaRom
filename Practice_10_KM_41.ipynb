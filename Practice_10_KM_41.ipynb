{
 "cells": [
  {
   "cell_type": "markdown",
   "metadata": {
    "id": "FMqboNwO4rVs"
   },
   "source": [
    "# **Курс \"Програмування на мові Python\"**"
   ]
  },
  {
   "cell_type": "markdown",
   "metadata": {
    "id": "A2T6MigL5Z06"
   },
   "source": [
    "## **Практичне зайняття №10**\n",
    "\n",
    "### Тема: \"Лямбда-функції. Функції вищих порядків\""
   ]
  },
  {
   "cell_type": "markdown",
   "metadata": {
    "id": "cfCdgK2zXm7e"
   },
   "source": [
    "### **Завдання 1 (1 бал)**\n",
    "\n",
    "Керівництво будівельної компанії вирішило підняти заробітні плати всім своїм працівникам на 30%. В залежності від спеціалізації та стажу працівники мають різну заробітну плату. Для підготовки звіту необхідно розрахувати нову заробітну плату для працівників компанії, а також суму індексації.\n",
    "\n",
    "Написати програму, яка буде генерувати таблицю для цього звіту. Початкова заробітна плата працівників подана у списку salary_list (у тисячах гривень). \n",
    "\n",
    "1. Для підрахунку невідомих значень повинні використовуватись вбудовані функції вищих порядків.\n",
    "\n",
    "2. Зарплата після індексації та сума індексації для працівників різних категорій повинні зберігатись у двох окремих списках. Порядок значень у кожному з нових списків повинен відповідати порядку значень у списку salary_list.\n",
    "\n",
    "3. Кожне підраховане числове значення має бути округлене до сотих.\n",
    "\n",
    "4. Дані повинні виводитись у вигляді:\n",
    "\n",
    "**Salary table:**\n",
    "\n",
    "**6.4 8.32 1.92**\n",
    "\n",
    "**9.35 12.16 2.81**\n",
    "\n",
    "**...**\n",
    "\n",
    "salary_list = [6.4, 9.35, 11.4, 14, 23.8, 28.15, 34.7]"
   ]
  },
  {
   "cell_type": "code",
   "execution_count": null,
   "metadata": {
    "id": "ifNX2M7LXm7f"
   },
   "outputs": [
    {
     "name": "stdout",
     "output_type": "stream",
     "text": [
      "Salary table:\n",
      "6.4    8.32   1.92  \n",
      "9.35   12.15  2.8   \n",
      "11.4   14.82  3.42  \n",
      "14     18.2   4.2   \n",
      "23.8   30.94  7.14  \n",
      "28.15  36.59  8.44  \n",
      "34.7   45.11  10.41 \n"
     ]
    }
   ],
   "source": [
    "salary_list = [6.4, 9.35, 11.4, 14, 23.8, 28.15, 34.7]\n",
    "sumindex_list = []\n",
    "afterindex_list = []\n",
    "t = list(map(lambda x: sumindex_list.append(round(x*.3,2)), salary_list))\n",
    "t2 = list(map(lambda x: afterindex_list.append(round(x*1.3,2)), salary_list))                 \n",
    "print(\"Salary table: \")\n",
    "t1 = list(map(lambda x,y,z: print(f'{x:<6} {y:<6} {z:<6}'), salary_list, afterindex_list, sumindex_list))\n",
    "\n"
   ]
  },
  {
   "cell_type": "markdown",
   "metadata": {},
   "source": [
    "### **Завдання 2 (2 бали)**\n",
    "\n",
    "Зазвичай рік має 365 днів. Однак у високосні роки додається ще один день - 29 лютого. Правила визначення високосного року такі:\n",
    "\n",
    "- Будь-який рік, що ділиться на 400 - високосний.\n",
    "\n",
    "- З тих років, що залишились, будь-який рік, що ділиться на 100 - **не** високосний.\n",
    "\n",
    "- З тих років, що залишились, будь-який рік, що ділиться на 4 - високосний.\n",
    "\n",
    "- Усі інші роки, що залишились - **не** високосні.\n",
    "\n",
    "1) Створіть функцію, в якій за допомогою вбудованих функцій вищих порядків будуть визначатися високосні роки серед перелічених років у списку years. Створена функція має повертати список високосних років.\n",
    "\n",
    "2) Створіть функцію вищих порядків, яка прийматиме на вхід попередню функцію та визначатиме кількість днів у місяці. Також функція повинна приймати на вхід ще 2 параметри: ціле число від 1 до 12 (місяць) та рік, як ціле чотирицифрове число. Ці значення корисувач має вводити з клавіатури. Перевірку введених даних слід виконувати поза межами функцій."
   ]
  },
  {
   "cell_type": "code",
   "execution_count": null,
   "metadata": {},
   "outputs": [
    {
     "name": "stdout",
     "output_type": "stream",
     "text": [
      "Leap years:  [1904, 1908, 1912, 1916, 1920, 1924, 1928, 1932, 1936, 1940, 1944, 1948, 1952, 1956, 1960, 1964, 1968, 1972, 1976, 1980, 1984, 1988, 1992, 1996, 2000, 2004, 2008, 2012, 2016, 2020]\n",
      "days: 31\n"
     ]
    }
   ],
   "source": [
    "import numpy as np\n",
    "\n",
    "years = np.arange(1900, 2020+1, 1)\n",
    "\n",
    "def leap_year(years):\n",
    "    if years % 400 == 0:\n",
    "        return True\n",
    "    elif years % 100 == 0:\n",
    "        return False\n",
    "    elif years % 4 == 0:\n",
    "        return True\n",
    "    else:\n",
    "        return False\n",
    "\n",
    "yearslist = []\n",
    "h = list(map(lambda x: yearslist.append(int(x)) if leap_year(x) else (), years))\n",
    "\n",
    "print(\"Leap years: \", yearslist)\n",
    "\n",
    "def valuemonth():\n",
    "    while(True):\n",
    "        month = input(\"Insert a number between 1 and 12: \")\n",
    "        try:\n",
    "            month = int(month)\n",
    "            if month < 1 or month > 12:\n",
    "                raise TypeError\n",
    "            break\n",
    "        except ValueError:\n",
    "            print(\"Insert a number, please.\")\n",
    "        except TypeError:\n",
    "            print(\"Insert a number that is between 1 and 12, please.\")\n",
    "    return month\n",
    "\n",
    "def valueyear():\n",
    "    while(True):\n",
    "        year = input(\"Insert a number between 1 and 12: \")\n",
    "        try:\n",
    "            year = int(year)\n",
    "            if year < 1000 or year >= 10000:\n",
    "                raise TypeError\n",
    "            break\n",
    "        except ValueError:\n",
    "            print(\"Insert a number, please.\")\n",
    "        except TypeError:\n",
    "            print(\"Insert a number that is between 1000 and 9999, please.\")\n",
    "    return year\n",
    "\n",
    "def months():\n",
    "    listdays = [31, 28, 31, 30, 31, 30, 31, 31, 30, 31, 30, 31]\n",
    "    mon = valuemonth()\n",
    "    yer = valueyear()\n",
    "    if mon == 2 and leap_year(yer):\n",
    "        return 29\n",
    "    else:\n",
    "        return listdays[mon - 1]\n",
    "\n",
    "print(f'Days: {months()}')\n",
    "\n"
   ]
  }
 ],
 "metadata": {
  "colab": {
   "collapsed_sections": [],
   "name": "Practice_7_KM-01_.ipynb",
   "provenance": []
  },
  "kernelspec": {
   "display_name": "Python 3",
   "name": "python3"
  },
  "language_info": {
   "codemirror_mode": {
    "name": "ipython",
    "version": 3
   },
   "file_extension": ".py",
   "mimetype": "text/x-python",
   "name": "python",
   "nbconvert_exporter": "python",
   "pygments_lexer": "ipython3",
   "version": "3.12.7"
  }
 },
 "nbformat": 4,
 "nbformat_minor": 0
}
