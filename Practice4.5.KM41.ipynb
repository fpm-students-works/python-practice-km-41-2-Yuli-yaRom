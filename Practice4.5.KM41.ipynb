{
  "cells": [
    {
      "cell_type": "markdown",
      "metadata": {
        "id": "1bRxWHr5e8kt"
      },
      "source": [
        "# **Курс \"Програмування на мові Python\"**"
      ]
    },
    {
      "cell_type": "markdown",
      "metadata": {
        "id": "buZUwUgFe-kx"
      },
      "source": [
        "## **Практичні зайняття №4-5**\n",
        "### Тема: \"Перші програми на Python. Введення та виведення даних. Інструкція if. Цикли. Робота зі списками\""
      ]
    },
    {
      "cell_type": "markdown",
      "metadata": {
        "id": "PUkxEn8EfAUe"
      },
      "source": [
        "### **Завдання 1 (1,5 бали)**\n",
        "\n"
      ]
    },
    {
      "cell_type": "markdown",
      "metadata": {
        "id": "M7jjwxAvfKa2"
      },
      "source": [
        "**Написати програму введення та виведення даних про одержувача листа (посилки) за стандартами Укрпошти.**\n",
        "\n",
        "1. Усі запити на введення даних повинні супроводжуватись відповідними підказками-поясненнями (бажано англійською мовою).\n",
        "\n",
        "2. Дані мають виводитись так, як показано нижче (з урахуванням кількості рядків та послідовності даних у кожному з них).\n",
        "\n",
        "3. Дані, виділені жирним шрифтом, повинні вводитись із клавіатури. Всього має бути 9 окремих команд введення даних\n",
        "\n",
        "4. Назви змінних повинні бути інформативними та оформленими відповідно до правил іменування змінних\n",
        "\n",
        "5. Додати 2 коментарі, що вказують на блоки введення та виведення даних.\n",
        "\n",
        "***Формат виведення даних:***\n",
        "\n",
        "(1) **Ім'я** (2) **Прізвище**\n",
        "\n",
        "(3) **Номер телефону**\n",
        "\n",
        "Str. (4) **Назва вулиці** (5) **Номер будинку**, ap. (6) **Номер квартири**, (7) **Місто**\n",
        "\n",
        "(8) **Індекс**\n",
        "\n",
        "(9) **Країна**\n",
        "\n",
        "***Приклад виведення:***\n",
        "\n",
        "*Lucas Diallo*\n",
        "\n",
        "*3221234567*\n",
        "\n",
        "*Str. Longue 3, ap. 5, Bruxelles*\n",
        "\n",
        "*1020*\n",
        "\n",
        "*Belgium*"
      ]
    },
    {
      "cell_type": "code",
      "execution_count": null,
      "metadata": {},
      "outputs": [],
      "source": [
        "x = str(input(\"Insert your name: \"))\n",
        "y = str(input(\"Insert your surname: \"))\n",
        "v = int(input(\"Insert your phone number: \"))\n",
        "h = str(input(\"Insert your street name: \"))\n",
        "p = int(input(\"Insert your house number: \"))\n",
        "l = int(input(\"Insert your apartment number: \"))\n",
        "t = str(input(\"Insert your city: \"))\n",
        "o = int(input(\"Insert your postcode: \"))\n",
        "k = str(input(\"Insert your country: \"))\n",
        "\n",
        "print(\"Your information: \")\n",
        "print(x , y)\n",
        "print(v)\n",
        "print(\"Str.\", h , p , \",\" , \"ap.\", l ,\",\", t)\n",
        "print(o)\n",
        "print(k)"
      ]
    },
    {
      "cell_type": "markdown",
      "metadata": {
        "id": "WmnpKrmPf689"
      },
      "source": [
        "### **Завдання 2 (1,5 бали)**"
      ]
    },
    {
      "cell_type": "markdown",
      "metadata": {
        "id": "4n4p_pz7gFKM"
      },
      "source": [
        "Таблиця містить магнітуду землетрусів за шкалою Ріхтера та дескриптори, що їй відповідають.\n",
        "\n",
        "Магнітуда | Дескриптор\n",
        "--- | ---\n",
        "Менше, ніж 2 | Micro\n",
        "Від 2 до менше ніж 3 | Very minor\n",
        "Від 3 до менше ніж 4 | Minor\n",
        "Від 4 до менше ніж 5 | Light\n",
        "Від 5 до менше ніж 6 | Moderate\n",
        "Від 6 до менше ніж 7 | Strong\n",
        "Від 7 до менше ніж 8 | Major\n",
        "Від 8 до менше ніж 10 | Great\n",
        "10 та більше | Meteoric\n",
        "\n",
        "Напишіть програму, яка буде зчитувати магнітуду, введену користувачем, та виводити відповідний дескриптор як частину змістовного повідомлення. Наприклад, якщо користувач вводить 5.5, ваша програма повинна показати, що землетрус з такою магнітудою є помірним (moderate)."
      ]
    },
    {
      "cell_type": "code",
      "execution_count": 2,
      "metadata": {
        "id": "Nv66Jkkpf-sI"
      },
      "outputs": [
        {
          "name": "stdout",
          "output_type": "stream",
          "text": [
            "The earthquake is meteoric.\n"
          ]
        }
      ],
      "source": [
        "x = float(input(\"Insert the magnitude of the earthquake: \"))\n",
        "\n",
        "if x < 2:\n",
        "    print(\"The earthquake is Micro.\")\n",
        "elif x >= 2 and x < 3:\n",
        "    print(\"The earthquake is very minor.\")\n",
        "elif x >= 3 and x < 4:\n",
        "    print(\"The earthquake is minor.\")\n",
        "elif x >= 4 and x < 5:\n",
        "    print(\"The earthquake is light.\")\n",
        "elif x >= 5 and x < 6:\n",
        "    print(\"The earthquake is moderate.\") \n",
        "elif x >= 6 and x < 7:\n",
        "    print(\"The earthquake is strong.\")\n",
        "elif x >= 7 and x < 8:\n",
        "    print(\"The earthquake is major.\")\n",
        "elif x >= 8 and x < 10:\n",
        "    print(\"The earthquake is great.\")\n",
        "elif x >= 10:\n",
        "    print(\"The earthquake is meteoric.\")\n",
        "else:\n",
        "    if x == 0:\n",
        "        print(\"There is no earthquake.\")"
      ]
    },
    {
      "cell_type": "markdown",
      "metadata": {
        "id": "X8fC_GM_nMRi"
      },
      "source": [
        "### **Завдання 3 (бонусне, 1 бал)**"
      ]
    },
    {
      "cell_type": "markdown",
      "metadata": {
        "id": "b593txPwotgN"
      },
      "source": [
        "Часто говорять, що один календарний рік еквівалентний 7 рокам для собаки. Однак таке просте перетворення не враховує того, що собаки досягають повноліття приблизно у 2 роки. Тому деякі люди вважать, що краще рахувати кожен з перших двох календарних років як 10,5 років для собаки, а потім рахувати кожен наступний календарний рік як 4 роки для собаки.\n",
        "\n",
        "Напишіть програму, яка конвертує календарні роки у \"собачі\", як було показано в попередньому абзаці. Переконайтесь, що ваша програма працює правильно, конвертуючи перші два календарні роки та всі подальші. Ваша програма також повинна виводити повідомлення про помилку, якщо користувач введе від'ємне число."
      ]
    },
    {
      "cell_type": "code",
      "execution_count": null,
      "metadata": {
        "id": "PA_E_H0Zosu0"
      },
      "outputs": [],
      "source": [
        "while(True):\n",
        "    while(True):\n",
        "        k = input(\"Insert calendar years: \")\n",
        "        try:\n",
        "            rik = int(k)\n",
        "            break\n",
        "\n",
        "        except:\n",
        "            print(\"The number cannot be a letter.\")\n",
        "\n",
        "    if rik > 0:\n",
        "        break\n",
        "    else:\n",
        "        print(\"The number must be positive.\")\n",
        "\n",
        "dogrik = 10.5\n",
        "        \n",
        "if rik == 1:\n",
        "    print(\"dog age is:\", dogrik)\n",
        "elif rik == 2:\n",
        "    print(\"dog age is:\" , dogrik * 2)\n",
        "elif rik > 2:\n",
        "    dogrik = 21\n",
        "    print(\"dog age is:\", dogrik + 4*(rik - 2))"
      ]
    },
    {
      "cell_type": "markdown",
      "metadata": {},
      "source": [
        "### **Завдання 4 (1,5 бали)**"
      ]
    },
    {
      "cell_type": "markdown",
      "metadata": {},
      "source": [
        "Керівництво будівельної компанії вирішило підняти заробітні плати всім своїм працівникам на 30%. В залежності від спеціалізації та стажу працівники мають різну заробітну плату. Для підготовки звіту необхідно розрахувати нову заробітну плату для працівників компанії, а також суму індексації.\n",
        "\n",
        "Написати програму, яка буде генерувати таблицю для цього звіту. Початкова заробітна плата працівників подана у списку salary_list (у тисячах гривень).\n",
        "\n",
        "1. Для підрахунку невідомих значень та їх виведення повинен використовуватись цикл.\n",
        "\n",
        "2. Зарплата після індексації та сума індексації для працівників різних категорій повинні зберігатись у двох окремих списках. Порядок значень у кожному з нових списків повинен відповідати порядку значень у списку salary_list.\n",
        "\n",
        "3. Кожне підраховане числове значення має бути округлене до сотих. Для цього слід використати функцію round(). Приклад застосування цієї функції:\n",
        "\n",
        "```\n",
        "value_new = round(2.3741, 2)\n",
        "print(value_new)\n",
        "```\n",
        "\n",
        "4. Дані повинні виводитись у вигляді:\n",
        "\n",
        "**Salary table:**\n",
        "\n",
        "**7.3 9.49 2.19**\n",
        "\n",
        "**8.5 11.05 2.55**\n",
        "\n",
        "**...**\n",
        "\n",
        "salary_list = [7.3, 8.5, 11, 12.7, 15.2, 21.12, 27.35]"
      ]
    },
    {
      "cell_type": "code",
      "execution_count": 3,
      "metadata": {},
      "outputs": [
        {
          "name": "stdout",
          "output_type": "stream",
          "text": [
            "Salary table: \n",
            "7.3 9.49 2.19\n",
            "8.5 11.05 2.55\n",
            "11 14.3 3.3\n",
            "12.7 16.51 3.81\n",
            "15.2 19.76 4.56\n",
            "21.12 27.46 6.34\n",
            "27.35 35.55 8.2\n"
          ]
        }
      ],
      "source": [
        "salary_list = [7.3, 8.5, 11, 12.7, 15.2, 21.12, 27.35]\n",
        "\n",
        "new_valuelist = []\n",
        "\n",
        "indexlist = []\n",
        "\n",
        "print(\"Salary table: \")\n",
        "\n",
        "for i in salary_list:\n",
        "    new_value = round(i * 1.3, 2)\n",
        "    new_valuelist.append(new_value)\n",
        "    index = round(new_value - i, 2)\n",
        "    indexlist.append(index)\n",
        "    print(i , new_value, index)\n"
      ]
    },
    {
      "cell_type": "markdown",
      "metadata": {},
      "source": [
        "### **Завдання 5 (1,5 бали)**"
      ]
    },
    {
      "cell_type": "markdown",
      "metadata": {},
      "source": [
        "Перелічуючи деякі предмети у тексті, ми ставимо між ними коми. В англійській мові слово and зазвичай ставлять між останнім та передостаннім словом у переліку (за виключенням випадку, коли у списку всього одне слово). Розглянемо 4 приклади:\n",
        "\n",
        "**apples**\n",
        "\n",
        "**apples and oranges**\n",
        "\n",
        "**apples, oranges and bananas**\n",
        "\n",
        "**apples, oranges, bananas and lemons**\n",
        "\n",
        "Напишіть програму, яка:\n",
        "\n",
        "1. отримує на вхід перелік деяких предметів, які користувач вводить з клавіатури, та записує їх у список у вигляді окремих елементів;\n",
        "\n",
        "2. виводить ці предмети у тій самій послідовності, в якій вони були введені, розставляючи коми та слово and так, як показано у прикладі."
      ]
    },
    {
      "cell_type": "code",
      "execution_count": null,
      "metadata": {},
      "outputs": [],
      "source": [
        "x = input(\"Insert words: \")\n",
        "\n",
        "y = []\n",
        "\n",
        "y.append(x)\n",
        "\n",
        "if len(y) == 1:\n",
        "    print(y[0])\n",
        "elif len(y) == 2:\n",
        "    print(y[0], \"and\" , y[1])\n",
        "\n",
        " \n"
      ]
    }
  ],
  "metadata": {
    "colab": {
      "collapsed_sections": [],
      "name": "Pranctice_3_KM-01_<name>.ipynb",
      "provenance": []
    },
    "kernelspec": {
      "display_name": "Python 3",
      "language": "python",
      "name": "python3"
    },
    "language_info": {
      "codemirror_mode": {
        "name": "ipython",
        "version": 3
      },
      "file_extension": ".py",
      "mimetype": "text/x-python",
      "name": "python",
      "nbconvert_exporter": "python",
      "pygments_lexer": "ipython3",
      "version": "3.12.7"
    }
  },
  "nbformat": 4,
  "nbformat_minor": 2
}
