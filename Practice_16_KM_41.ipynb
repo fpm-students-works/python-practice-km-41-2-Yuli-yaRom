{
  "cells": [
    {
      "cell_type": "markdown",
      "metadata": {
        "id": "FMqboNwO4rVs"
      },
      "source": [
        "# **Курс \"Програмування на мові Python\"**"
      ]
    },
    {
      "cell_type": "markdown",
      "metadata": {
        "id": "A2T6MigL5Z06"
      },
      "source": [
        "## **Практичне зайняття №14**\n",
        "\n",
        "### Тема: \"Робота зі спеціальними форматами файлів\""
      ]
    },
    {
      "cell_type": "markdown",
      "metadata": {
        "id": "A34oz70eU463"
      },
      "source": [
        "### **Завдання 1 (1,5 бали)**\n",
        "\n",
        "Створіть CSV-файл, що буде містити від 5 до 10 пісень (творів) вашого улюбленого музиканта. Назва файлу - ім'я музиканта (композитора) або назва гурту.\n",
        "\n",
        "1. Обов'язково додайте до файлу рядок з назвами двох колонок (Song, Year) або (Composition, Year).\n",
        "\n",
        "2. Після запису файлу роздрукуйте назву файлу та усі наявні у файлі рядки (включно із заголовками).\n",
        "\n",
        "3. Для запису та зчитування рядків скористайтесь функціями csv.DictWriter() та csv.DictReader()."
      ]
    },
    {
      "cell_type": "code",
      "execution_count": 3,
      "metadata": {
        "id": "MEJIrG1GU463"
      },
      "outputs": [
        {
          "name": "stdout",
          "output_type": "stream",
          "text": [
            "songs,years\n",
            "\n",
            "Borderline,2020\n",
            "\n",
            "Let it Happen,2015\n",
            "\n",
            "Eventually,2015\n",
            "\n",
            "Posthumous Forgiveness,2020\n",
            "\n",
            "Love\\Paranoia,2015\n",
            "\n",
            "\n"
          ]
        }
      ],
      "source": [
        "listsong = [\"Borderline\", \"Let it Happen\", \"Eventually\", \"Posthumous Forgiveness\", r\"Love\\Paranoia\"]\n",
        "\n",
        "listyear = [2020, 2015, 2015, 2020, 2015]\n",
        "\n",
        "import csv\n",
        "\n",
        "open(\"Tame Impala.csv\", \"w\")\n",
        "\n",
        "csv.DictWriter(open(\"Tame Impala.csv\", \"a\"), [\"Songs\", \"Years\"]).writerow({\"Songs\": \"songs\", \"Years\": \"years\"})\n",
        "\n",
        "for inx in range(0, 5):\n",
        "    csv.DictWriter(open(\"Tame Impala.csv\", \"a\"), [\"Songs\", \"Years\"]).writerow({\"Songs\": listsong[inx], \"Years\": listyear[inx]})\n",
        "\n",
        "print(open(\"Tame Impala.csv\", \"r\").read())"
      ]
    },
    {
      "cell_type": "markdown",
      "metadata": {
        "id": "Jb-eSBsWU464"
      },
      "source": [
        "### **Завдання 2 (1,5 бали)**\n",
        "\n",
        "COCO Dataset - набір фотографій та анотацій до них. Його дуже часто використовують для тренування класифікаторів, призначених для розпізнавання об'єктів та визначення ключових точок на зображеннях.\n",
        "\n",
        "Завантажте файли з описом фотографій COCO Dataset за посиланням: [COCO Dataset](http://images.cocodataset.org/annotations/image_info_test2017.zip).\n",
        "\n",
        "Відкрийте файл image_info_test-dev2017.json. Інформація про фотографії з бази COCO міститься у полі \"images\". Інформація про категорії, на які розділені всі фотографії, міститься у полі \"categories\".\n",
        "\n",
        "1. Визначте кількість фотографій, інформацію про які можна знайти у цьому файлі (кількість елементів, що відповідають ключу \"images\").\n",
        "\n",
        "2. Визначте кількість наявних категорій (кількість елементів, що відповідають ключу \"categories\").\n",
        "\n",
        "3. Виведіть посилання на фотографію 000000000001.jpg (\"coco_url\"). Також виведіть висоту цієї фотографії (\"height\"), ширину (\"width\") та її ідентифікатор (\"id\").\n",
        "\n",
        "4. Виведіть назву фотографії з набільшим номером.\n",
        "\n",
        "Опис структури JSON-файлу для набору фотографій COCO можна знайти за посиланням: [Data format](https://cocodataset.org/#format-data).\n",
        "\n",
        "Щоб перевірити правильність результатів, у VS Code встановіть розширення JSON та відкрийте файл image_info_test-dev2017.json. Розширення автоматично визначає кількість елементів у кожному полі."
      ]
    },
    {
      "cell_type": "code",
      "execution_count": 6,
      "metadata": {},
      "outputs": [
        {
          "name": "stdout",
          "output_type": "stream",
          "text": [
            "\"info\": {\"description\": \"COCO 2017 Dataset\", \"url\": \"http://cocodataset.org\", \"version\": \"1.0\", \"year\": 2017, \"contributor\": \"COCO Consortium\", \"date_created\": \"2017/09/01\"}, \"images\": [{\"license\": 6, \"file_name\": \"000000466319.jpg\", \"coco_url\": \"http://images.cocodataset.org/test2017/000000466319.jpg\", \"height\": 480, \"width\": 640, \"date_captured\": \"2013-11-14 11:04:33\", \"id\": 466319}, {\"license\": 2, \"file_name\": \"000000523573.jpg\", \"coco_url\": \"http://images.cocodataset.org/test2017/000000523573.jpg\", \"height\": 500, \"width\": 423, \"date_captured\": \"2013-11-14 12:21:59\", \"id\": 523573}, {\"license\": 3, \"file_name\": \"000000308929.jpg\", \"coco_url\": \"http://images.cocodataset.org/test2017/000000308929.jpg\", \"height\": 640, \"width\": 425, \"date_captured\": \"2013-11-14 15:53:03\", \"id\": 308929}, {\"license\": 2, \"file_name\": \"000000057540.jpg\", \"coco_url\": \"http://images.cocodataset.org/test2017/000000057540.jpg\", \"height\": 266, \"width\": 640, \"date_captured\": \"2013-11-14 16:39:48\", \"id\": 57540}, {\"\n"
          ]
        }
      ],
      "source": [
        "import json\n",
        "\n",
        "file = json.load(open(r\"annotations\\image_info_test-dev2017.json\", \"r\"))\n",
        "\n",
        "dum = json.dumps(file)\n",
        "\n"
      ]
    }
  ],
  "metadata": {
    "colab": {
      "collapsed_sections": [],
      "name": "Practice_14_KM_01.ipynb",
      "provenance": []
    },
    "kernelspec": {
      "display_name": "Python 3",
      "name": "python3"
    },
    "language_info": {
      "codemirror_mode": {
        "name": "ipython",
        "version": 3
      },
      "file_extension": ".py",
      "mimetype": "text/x-python",
      "name": "python",
      "nbconvert_exporter": "python",
      "pygments_lexer": "ipython3",
      "version": "3.12.6"
    }
  },
  "nbformat": 4,
  "nbformat_minor": 0
}
