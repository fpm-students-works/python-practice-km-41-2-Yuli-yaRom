{
 "cells": [
  {
   "cell_type": "markdown",
   "metadata": {
    "id": "FMqboNwO4rVs"
   },
   "source": [
    "# **Курс \"Програмування на мові Python\"**"
   ]
  },
  {
   "cell_type": "markdown",
   "metadata": {
    "id": "A2T6MigL5Z06"
   },
   "source": [
    "## **Практичне зайняття №16**\n",
    "\n",
    "### Тема: \"Декоратори\""
   ]
  },
  {
   "cell_type": "markdown",
   "metadata": {},
   "source": [
    "### **Завдання 1 (3 бали)**\n",
    "\n",
    "Реалізуйте підрахунок площі трикутника з використанням декоратора, який перевірятиме можливість побудови трикутника з трьох введених користувачем сторін.\n",
    "\n",
    "1. Напишіть функцію area_calculation, яка підраховуватиме площу трикутника за трьома сторонами. Для підрахунку можете скористатись формулою Герона.\n",
    "\n",
    "2. Напишіть функцію check, яка перевірятиме правильність введених користувачем значень (значення мають бути додатними числами, не обов'язково цілими).\n",
    "\n",
    "3. Створіть декоратор triangle_ineq, який перевірятиме виконання нерівності трикутрика для трьох заданих користувачем сторін. Навісьте декоратор triangle_ineq на функція area_calculation та перевірте правильність роботи програми."
   ]
  },
  {
   "cell_type": "code",
   "execution_count": null,
   "metadata": {},
   "outputs": [
    {
     "name": "stdout",
     "output_type": "stream",
     "text": [
      "All good!\n",
      "The area of the triangle: 14.696938456699069\n"
     ]
    }
   ],
   "source": [
    "def check(text):\n",
    "    while(True):\n",
    "        x = input(text)\n",
    "        try:\n",
    "            x = float(x)\n",
    "            if x < 0:\n",
    "                raise TypeError\n",
    "            break\n",
    "        except ValueError:\n",
    "            print(\"Insert a number.\")\n",
    "        except TypeError:\n",
    "            print(\"Insert a positive number.\")\n",
    "    return x\n",
    "\n",
    "a = check(\"Insert a number: \")\n",
    "b = check(\"Insert a number: \")\n",
    "c = check(\"Insert a number: \")\n",
    "\n",
    "def triangle_ineq(fnc):\n",
    "    if a < b + c and b < c + a and c < a + b:\n",
    "        print(\"All good!\")\n",
    "    else:\n",
    "        print(\"There is some problem with the sides of triangle...\")\n",
    "    return fnc()\n",
    "\n",
    "@triangle_ineq\n",
    "def area_calculation():\n",
    "    p = (a+b+c)/2\n",
    "    s = (p*(p-a)*(p-b)*(p-c))**0.5\n",
    "    print(f\"The area of the triangle: {s}\")\n",
    "\n"
   ]
  }
 ],
 "metadata": {
  "colab": {
   "collapsed_sections": [],
   "name": "Practice_10-11_KM_01_.ipynb",
   "provenance": []
  },
  "kernelspec": {
   "display_name": "Python 3",
   "name": "python3"
  },
  "language_info": {
   "codemirror_mode": {
    "name": "ipython",
    "version": 3
   },
   "file_extension": ".py",
   "mimetype": "text/x-python",
   "name": "python",
   "nbconvert_exporter": "python",
   "pygments_lexer": "ipython3",
   "version": "3.12.8"
  }
 },
 "nbformat": 4,
 "nbformat_minor": 0
}
